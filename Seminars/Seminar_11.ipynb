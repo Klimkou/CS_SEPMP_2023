{
 "cells": [
  {
   "cell_type": "markdown",
   "metadata": {},
   "source": [
    "## Тестирование программ\n",
    "\n",
    "После написания программы вы можете вручную исследовать ее поведение в различных сценариях. Делая это, программист тестирует написанный код в ручном режиме. Это так называемые исследовательские ручные тесты. Если после во время таких тестов программист обнаруживает ошибочное поведение программы, он пытается его исправить внесением правок в соответствующий участок кода. После этого он снова проводит ручное тестирование. И его код снова выдает ошибку &mdash; еще хуже, если уже в другом месте. Поиск ошибок в программе &mdash; это изнурительный процесс, а повторение одних и тех же действий по тестированию делают этот процесс еще более невыносимым.\n",
    "\n",
    "К счастью, есть удобное решение &mdash; это подготовка набора автоматических тестов. Единожды подготовив автоматические тесты, программист более не тратит свое время на ручной ввод тестовых данных при каждом найденном баге. Он просто запускает все тесты сразу одной командой и смотрит на вывод неудачных тестов. На анализ удачных тестов программист при этом вообще не тратит времени.\n",
    "\n",
    "Автоматические тесты принципиально можно поделить на две группы: интеграционные (integration) и модульные (unit) тесты. Представьте, что вы хотите проверить работу фар в автомобиле. Для этого вы включаете фары с помощью переключателя, а затем выходите из машины и смотрите на фары &mdash; и они не работают. В чем может быть дело? Неполадки могут быть в проводке в машине, в целостности лампы, в заряде аккумулятора. Непредсказуемое поведение может быть даже попросту в том, что между включением фар и тем, как вы на них смотрите, проходит порядка 10 секунд. В такой ситуации вы пытаетесь проверить систему, состоящую из множества компонентов &mdash; она не работает, но вы не можете сразу сказать, в чем дело. Такую проверку можно сравнить с интеграционным тестированием.\n",
    "\n",
    "Модульное тестирование подразумевает проверку отдельного компонента системы, что позволяет локализовать неисправность. Например, ручной модульный тест может включать в себя исследование проводки, лампочки, заряда аккумулятора с помощью мультиметра. Автоматический модульный тест может быть создан разработчиками автомобиля &mdash; они добавят на панель приборов индикатор для датчика исправности лампы в фаре.\n",
    "\n",
    "### Assertions для проверки логических выражений\n",
    "\n",
    "В программировании в роли датчиков исправности выступают *assertions* (утверждения). Они позволяют понять, является ли данное выражение истинным в заданных условиях. В языке python assertions задаются синтаксисом\n",
    "```python\n",
    "assert bool_expr, assertion_msg\n",
    "```\n",
    "где ```bool_expr``` &mdash; это логическое выражение, истинность которого необходимо проверить, ```assertion_msg``` &mdash; это опциональная строка, которую выведет программа, если выражение ```bool_expr``` оказалось неверным. В этом случае интерпретатор выдает ошибку ```AssertionError``` с сообщением ```assertion_msg```. Логическое выражение в assertion может быть неверным только если в коде есть баг. Другими словами, программист никогда не должен увидеть ```AssertionError``` в работающей программе.\n",
    "\n",
    "Assertions полезны при разработке и отладке кода, но на них нельзя надеяться при использовании программы в нормальных условиях. Вот некоторые из сценариев, при которых assertions могут использоваться: документирование и тестирование кода, отладка багов.\n",
    "\n",
    "Например, рассмотрим код для работы с геометрической фигурой &mdash; кругом в разработке."
   ]
  },
  {
   "cell_type": "code",
   "execution_count": null,
   "metadata": {},
   "outputs": [],
   "source": [
    "from math import pi\n",
    "\n",
    "class Circle:\n",
    "    def __init__(self, radius):\n",
    "        if radius < 0:\n",
    "            raise ValueError(\"positive radius expected\")\n",
    "        self.radius = radius\n",
    "\n",
    "    def area(self):\n",
    "        assert self.radius >= 0, \"positive radius expected\"\n",
    "        return pi * self.radius ** 2"
   ]
  },
  {
   "cell_type": "markdown",
   "metadata": {},
   "source": [
    "Здесь конструктор класса ```__init__``` запрещает отрицательный радиус круга, функция расчета площади ```area``` проверяет, что радиус неотрицателен. Возникает вопрос, зачем функция ```area``` об этом заботится, если конструктор уже содержит в себе необходимые условия, и у пользователя не получится создать круг с отрицательным радиусом? Для ответа на этот вопрос попросим другого программиста написать функцию ```correct_radius``` для умножения радиуса колеса на некоторый коэффициент."
   ]
  },
  {
   "cell_type": "code",
   "execution_count": null,
   "metadata": {},
   "outputs": [],
   "source": [
    "class Circle:\n",
    "    def __init__(self, radius):\n",
    "        if radius < 0:\n",
    "            raise ValueError(\"positive radius expected\")\n",
    "        self.radius = radius\n",
    "\n",
    "    def area(self):\n",
    "        assert self.radius >= 0, \"positive radius expected\"\n",
    "        return pi * self.radius ** 2\n",
    "\n",
    "    def correct_radius(self, correction_coefficient):\n",
    "        self.radius *= correction_coefficient"
   ]
  },
  {
   "cell_type": "markdown",
   "metadata": {},
   "source": [
    "А теперь воспользуемся нашей программой."
   ]
  },
  {
   "cell_type": "code",
   "execution_count": null,
   "metadata": {},
   "outputs": [],
   "source": [
    "tire = Circle(42)\n",
    "tire.area()"
   ]
  },
  {
   "cell_type": "code",
   "execution_count": null,
   "metadata": {},
   "outputs": [],
   "source": [
    "tire.correct_radius(-1.02)\n",
    "tire.area()"
   ]
  },
  {
   "cell_type": "markdown",
   "metadata": {},
   "source": [
    "Мы получили ошибку только благодаря осмотрительности первого программиста, который явно учел возможность того, что кто-то когда-нибудь сделает радиус отрицательным. \n",
    "\n",
    "На данном этапе кому-то захочется обернуть ```assert``` в блок ```try ... except```, но делать это категорически нельзя. Повторим, что assertions актуальны только при разработке программы, и могут быть проигнорированы при подготовке пакетов для реального использования. Задача программиста &mdash; это не обработать возникающие ```AssertionError```, а сделать так, чтобы при всюду существующих ```assert``` ошибки этого типа никогда не возникали.\n",
    "\n",
    "Приведенный выше пример показывает использование assertions для отладки багов. Программист использовал так называемые preconditions &mdash; он разместил ```assert``` в блоке верификации входных данных. То же самое можно делать для проверки возвращаемых из функции значений перед ```return```. В этом случае такие выражения называются postconditions.\n",
    "\n",
    "Одновременно с отладкой багов, мы добавили в код документацию. Прочитав ```assert self.radius >= 0```, опытный программист сразу поймет, что в этой функции имеет дело с неотрицательным значением радиуса. Такое документирование наряду с качественными названиям переменных оказывается более действенным, чем добавление строковых комментариев вроде:\n",
    "```python\n",
    "# The radius must be non-negative.\n",
    "```\n",
    "Такие комментарии, к сожалению, не гарантируют ничего. "
   ]
  },
  {
   "cell_type": "markdown",
   "metadata": {},
   "source": [
    "Напомним, что для работы с assertions нужно использовать базовый синтаксис\n",
    "```python\n",
    "assert expression, assertion_message\n",
    "```"
   ]
  },
  {
   "cell_type": "code",
   "execution_count": null,
   "metadata": {},
   "outputs": [],
   "source": [
    "number = 10\n",
    "assert isinstance(number, (int, float))\n",
    "assert number > 0, \"number should be > 0\""
   ]
  },
  {
   "cell_type": "markdown",
   "metadata": {},
   "source": [
    "Ошибки не возникло, так как все выражения в ```assert``` оказались истинными."
   ]
  },
  {
   "cell_type": "code",
   "execution_count": null,
   "metadata": {},
   "outputs": [],
   "source": [
    "number = -10\n",
    "assert isinstance(number, (int, float))\n",
    "assert number > 0, \"number should be > 0\""
   ]
  },
  {
   "cell_type": "markdown",
   "metadata": {},
   "source": [
    "Получили ошибку, так как выражение в последнем ```assert``` оказалось ложным.\n",
    "\n",
    "Далее перечислим основные сценарии использования assertions. **Попробуйте самостоятельно предсказать вывод ячейки перед ее запуском. Обратите внимание на то, какая строка вызвала ошибку.**"
   ]
  },
  {
   "cell_type": "markdown",
   "metadata": {},
   "source": [
    "* Утверждения сравнения (comparison assertions)"
   ]
  },
  {
   "cell_type": "code",
   "execution_count": null,
   "metadata": {},
   "outputs": [],
   "source": [
    "assert 3 > 2\n",
    "assert 3 < 2"
   ]
  },
  {
   "cell_type": "code",
   "execution_count": null,
   "metadata": {},
   "outputs": [],
   "source": [
    "assert 3 == 2 "
   ]
  },
  {
   "cell_type": "code",
   "execution_count": null,
   "metadata": {},
   "outputs": [],
   "source": [
    "assert 3 > 2 and 4 > 3\n",
    "assert 3 < 2 or 4 < 3"
   ]
  },
  {
   "cell_type": "markdown",
   "metadata": {},
   "source": [
    "* Утверждения вхождения в множество (membership assertions)"
   ]
  },
  {
   "cell_type": "code",
   "execution_count": null,
   "metadata": {},
   "outputs": [],
   "source": [
    "numbers = [1, 2, 3, 4]\n",
    "assert 2 in numbers\n",
    "assert 10 in numbers"
   ]
  },
  {
   "cell_type": "code",
   "execution_count": null,
   "metadata": {},
   "outputs": [],
   "source": [
    "assert not 10 in numbers"
   ]
  },
  {
   "cell_type": "markdown",
   "metadata": {},
   "source": [
    "* Утверждения идентичности (identity assertions)"
   ]
  },
  {
   "cell_type": "code",
   "execution_count": null,
   "metadata": {},
   "outputs": [],
   "source": [
    "x = 1\n",
    "y = x\n",
    "z = None\n",
    "\n",
    "assert x is y\n",
    "assert z is None\n",
    "assert y is not x"
   ]
  },
  {
   "cell_type": "markdown",
   "metadata": {},
   "source": [
    "* Утверждения типа (type assertions)"
   ]
  },
  {
   "cell_type": "code",
   "execution_count": null,
   "metadata": {},
   "outputs": [],
   "source": [
    "num = 10.0\n",
    "assert isinstance(num, int)"
   ]
  },
  {
   "cell_type": "code",
   "execution_count": null,
   "metadata": {},
   "outputs": [],
   "source": [
    "assert isinstance(num, float)\n",
    "assert isinstance(num, (int, float))"
   ]
  },
  {
   "cell_type": "markdown",
   "metadata": {},
   "source": [
    "### Assertions не подходят для production\n",
    "\n",
    "Теперь разберемся, почему на assertions нельзя положиться нигде, кроме разработки и тестирования. Assertions можно отключить на этапе использования, применив флаг -O при выполнении программы (```python -O main.py```). В этом случае переменная ```__debug__``` принимает значение ```False```, что означает оптимизированное исполнение программы.\n",
    "\n",
    "Рассмотрим выражение\n",
    "```python\n",
    "if __debug__:\n",
    "    if not expression:\n",
    "        raise AssertionError(assertion_message)\n",
    "```\n",
    "оно эквивалентно выражению\n",
    "```python\n",
    "assert expression, assertion_message\n",
    "```\n",
    "Поэтому выключение режима отладки (когда ```__debug__ == False```) приводит к тому, что все assertions игнорируются. Это делает бессмысленным обработку и валидацию данных с помощью assertions. В этом случае стоит пользоваться конструкцией ```try ... except ... raise```."
   ]
  },
  {
   "cell_type": "markdown",
   "metadata": {},
   "source": [
    "## Использование ```assert``` в написании тестов\n",
    "\n",
    "Разобравшись с конструкцией ```assert```, мы можем начать использовать ее для написания тестов. Рассмотрим примитивную функцию для подсчета суммы элементов списка ```custom_sum```."
   ]
  },
  {
   "cell_type": "code",
   "execution_count": null,
   "metadata": {},
   "outputs": [],
   "source": [
    "def custom_sum(*args):\n",
    "    s = 0\n",
    "    for v in args:\n",
    "        s += v\n",
    "    return s"
   ]
  },
  {
   "cell_type": "markdown",
   "metadata": {},
   "source": [
    "Базовый тест мог бы выглядеть так:"
   ]
  },
  {
   "cell_type": "code",
   "execution_count": null,
   "metadata": {},
   "outputs": [],
   "source": [
    "if custom_sum(1, 2, 3, 4, 5) != 15: \n",
    "    print(\"should be 15\")"
   ]
  },
  {
   "cell_type": "markdown",
   "metadata": {},
   "source": [
    "Использование ```assert``` позволяет выполнить ту же проверку более емко. Более того, тестов может быть несколько."
   ]
  },
  {
   "cell_type": "code",
   "execution_count": null,
   "metadata": {},
   "outputs": [],
   "source": [
    "assert custom_sum(1, 2, 3, 4, 5) == 15, \"should be 15\"\n",
    "assert custom_sum() == 0, \"should be 0\""
   ]
  },
  {
   "cell_type": "markdown",
   "metadata": {},
   "source": [
    "Напишем функцию ```test_custom_sum```, проводящую необходимые тесты."
   ]
  },
  {
   "cell_type": "code",
   "execution_count": null,
   "metadata": {},
   "outputs": [],
   "source": [
    "def test_custom_sum():\n",
    "    assert custom_sum(1, 2, 3, 4, 5) == 15, \"should be 15\"\n",
    "    assert custom_sum() == 0, \"should be 0\"\n",
    "    assert custom_sum(0) == 0, \"should be 0\"\n",
    "    assert custom_sum(1, -1) == 0, \"should be 0\""
   ]
  },
  {
   "cell_type": "markdown",
   "metadata": {},
   "source": [
    "Теперь функцию необходимо вызвать. "
   ]
  },
  {
   "cell_type": "code",
   "execution_count": null,
   "metadata": {},
   "outputs": [],
   "source": [
    "test_custom_sum()"
   ]
  },
  {
   "cell_type": "markdown",
   "metadata": {},
   "source": [
    "Мы не получаем никаких ошибок, потому что функция реализована в соответствии с описанными тестовыми случаями."
   ]
  },
  {
   "cell_type": "markdown",
   "metadata": {},
   "source": [
    "## Использование ```unittest``` в написании тестов\n",
    "\n",
    "Для каждой &quot;настоящей&quot; функции нужно писать собственную &quot;тестовую&quot;, затем еще нужно не забыть ее вызвать. Было бы удобнее автоматизировать и этот процесс. Для этого пользуются пакетами для автотестирования: unittest, nose2, pytest. Первый из них сейчас входит в состав стандартной библиотеки python. Остальные делают небольшие надстройки над unittest, добавляют некоторый функционал. Поскольку эти возможности не представляют значительного учебного интереса, мы остановимся на самом базовом пакете &mdash; unittest."
   ]
  },
  {
   "cell_type": "markdown",
   "metadata": {},
   "source": [
    "Ремарка: для работы unittest в jupyter-notebook необходимо установить дополнительный пакет. Сделать это можно, выполнив следующую ячейку. Если далее вы планируете пользоваться отдельными .py-файлами, вам это действие выполнять не требуется."
   ]
  },
  {
   "cell_type": "code",
   "execution_count": null,
   "metadata": {},
   "outputs": [],
   "source": [
    "# The next line can be REMOVED in case you are using .py-file\n",
    "%pip install ipython_unittest"
   ]
  },
  {
   "cell_type": "markdown",
   "metadata": {},
   "source": [
    "Импортируем unittest. Здесь возникает вспомогательная команда, которую можно пропустить, если вы не пользуетесь jupyter-notebook."
   ]
  },
  {
   "cell_type": "code",
   "execution_count": null,
   "metadata": {},
   "outputs": [],
   "source": [
    "import unittest\n",
    "\n",
    "# The next line can be REMOVED in case you are using .py-file\n",
    "%reload_ext ipython_unittest"
   ]
  },
  {
   "cell_type": "markdown",
   "metadata": {},
   "source": [
    "Напишем сам тест. Здесь для реализации одного тестового случая нужно создать унаследованный от ```unittest.TestCase``` класс. Его следует назвать ```TestXXX```, где ```XXX``` обозначает название тестового случая. Далее в классе создается метод с названием ```test_xxx```, где ```xxx``` обозначает название тестируемой функции. Метод ```test_xxx``` наполняется логикой тестов.\n",
    "\n",
    "Вместо встроенной конструкции ```assert``` в unittest используются методы вида ```.assertYYY```. Далее приведены основные возможности этих методов.\n",
    "\n",
    "| unittest                      | pure python                                |\n",
    "|-------------------------------|--------------------------------------------|\n",
    "| ```.assertEqual(a, b)```      | ```assert a == b```                        |\n",
    "| ```.assertTrue(a)```          | ```assert a is True```                     |\n",
    "| ```.assertIs(a, b)```         | ```assert a is b```                        |\n",
    "| ```.assertIn(a, b)```         | ```assert a in b```                        |\n",
    "| ```.assertIsInstance(a, b)``` | ```assert isinstance(a, b)```              |\n",
    "| ```.assertNotEqual(a, b)```   | ```assert not a == b (or assert a != b)``` |\n",
    "\n",
    "Последний метод с ```Not``` приведен для примера, он доступен для всех перечисленных &quot;положительных&quot; методов."
   ]
  },
  {
   "cell_type": "code",
   "execution_count": null,
   "metadata": {},
   "outputs": [],
   "source": [
    "%%unittest_main\n",
    "# The previous line can be REMOVED in case you are using .py-file\n",
    "\n",
    "class TestOrdinaryList(unittest.TestCase):\n",
    "    def test_custom_sum(self):\n",
    "        self.assertEqual(custom_sum(1, 2, 3, 4), 10, \"should be 10\")\n",
    "\n",
    "class TestEmptyList(unittest.TestCase):\n",
    "    def test_custom_sum(self):\n",
    "        self.assertEqual(custom_sum(), 0, \"should be 0\")\n",
    "\n",
    "class TestListOfZeros(unittest.TestCase):\n",
    "    def test_custom_sum(self):\n",
    "        self.assertEqual(custom_sum(0, 0, 0), 0, \"should be 0\")\n",
    "\n",
    "class TestListWithNegatives(unittest.TestCase):\n",
    "    def test_custom_sum(self):\n",
    "        self.assertEqual(custom_sum(-1, -2, 2, 3), 2, \"should be 2\")\n",
    "\n",
    "class TestAlwaysFAIL(unittest.TestCase):\n",
    "    def test_custom_sum(self):\n",
    "        self.assertEqual(custom_sum(), 10, \"should be 2\")"
   ]
  },
  {
   "cell_type": "markdown",
   "metadata": {},
   "source": [
    "Разберем выходные данные. Строка (FAIL) показывает последний вывод ячейки. Далее начинается вывод системы тестирования. В ней первая строка (....F) обозначает, что было выполнено 5 тестов, из них 4 завершились успешно (обозначены по порядку точками), затем 1 тест завершился со статусом FAIL. На следующих строках показаны детали каждого безуспешно завершившегося теста: название тестовой функции, название модуля и тестового кейса. Далее идет Traceback с подробной информацией о причине ошибки."
   ]
  },
  {
   "cell_type": "markdown",
   "metadata": {},
   "source": [
    "В случае использования .py-файлов запуск тестов проводится следующим образом. Необходимо выполнить одно из двух действий:\n",
    "* Добавить в область ```if __name__ == \"__main__\"``` программы строку ```unittest.main()``` и запустить командой ```python3 <test_filename>.py```;\n",
    "* Запустить программу командой ```python3 -m unittest discover```, ничего не добавляя в текст программы, ```discover``` означает, что нужно найти все ```test*.py``` файлы в текущей директории."
   ]
  },
  {
   "cell_type": "markdown",
   "metadata": {},
   "source": [
    "Придумывать тесты трудно. Как можно к ним подступиться? Задайте себе несколько вопросов:\n",
    "* Что нужно протестировать?\n",
    "* Какие входные данные могут быть?\n",
    "* Какие при этом должны быть выходные данные?\n",
    "На примере с функцией суммирования, можно отвечать следующим образом: нужно протестировать функцию суммирования; входными данными может быть пустой список, список из одного элемента, список из нескольких элементов; выходными данными должен быть ноль, само число и сумма всех числе, соответственно. Далее необходимо эти слова формализовать в виде теста."
   ]
  },
  {
   "cell_type": "markdown",
   "metadata": {},
   "source": [
    "В какой-то момент программист должен подумать и о типе входных данных, чтобы затем их верифицировать. Допустим, в нашей функции суммирования мы уверены только в работоспособности на числах (целых и с плавающей точкой). Проверим, как при этом реагирует наша функция ```custom_sum``` на входные данные вида строка или на смесь типов данных."
   ]
  },
  {
   "cell_type": "code",
   "execution_count": null,
   "metadata": {},
   "outputs": [],
   "source": [
    "custom_sum(\"abc\", \"bcda\")"
   ]
  },
  {
   "cell_type": "code",
   "execution_count": null,
   "metadata": {},
   "outputs": [],
   "source": [
    "custom_sum(10, \"abc\", \"bcda\")"
   ]
  },
  {
   "cell_type": "markdown",
   "metadata": {},
   "source": [
    "Если посмотреть на Traceback, то становится понятно, что функция начала свое выполнение и выдала ошибку, как только не справилась с операциями. Несмотря на то, что мы ожидаем такую же ошибку, нам следует ожидать ее гораздо раньше &mdash; на этапе верификации входных данных."
   ]
  },
  {
   "cell_type": "code",
   "execution_count": null,
   "metadata": {},
   "outputs": [],
   "source": [
    "def custom_sum(*args):\n",
    "    for v in args:\n",
    "        # Which is better?\n",
    "\n",
    "        # This:\n",
    "        if not isinstance(v, (int, float)):\n",
    "            raise TypeError\n",
    "\n",
    "        # Or this?\n",
    "        assert isinstance(v, (int, float))\n",
    "\n",
    "    s = 0\n",
    "    for v in args:\n",
    "        s += v\n",
    "    return s"
   ]
  },
  {
   "cell_type": "markdown",
   "metadata": {},
   "source": [
    "Ответ на вопрос в примере зависит от обстоятельств. Самое важное обстоятельство &mdash; это стадия разработки. В большинстве ситуаций лучше сделать следующим образом."
   ]
  },
  {
   "cell_type": "code",
   "execution_count": null,
   "metadata": {},
   "outputs": [],
   "source": [
    "def custom_sum(*args):\n",
    "    for v in args:\n",
    "        if not isinstance(v, (int, float)):\n",
    "            raise TypeError(f\"custom_sum does not support type {type(v)} in arguments\")\n",
    "\n",
    "    s = 0\n",
    "    for v in args:\n",
    "        s += v\n",
    "    return s"
   ]
  },
  {
   "cell_type": "code",
   "execution_count": null,
   "metadata": {},
   "outputs": [],
   "source": [
    "%%unittest_main\n",
    "# The previous line can be REMOVED in case you are using .py-file\n",
    "\n",
    "class TestListOfIncorrectArgs(unittest.TestCase):\n",
    "    def test_custom_sum(self):\n",
    "        with self.assertRaises(TypeError):\n",
    "            custom_sum(1, \"2\", 3, \"4\")"
   ]
  },
  {
   "cell_type": "markdown",
   "metadata": {},
   "source": [
    "## Упражнение 1.\n",
    "\n",
    "Написать тесты программы для разложения числа на простые множители из упражнения 2 в [семинаре 3](https://github.com/Klimkou/CS_SEPMP_2023/blob/main/Seminars/Seminar_3.ipynb)."
   ]
  },
  {
   "cell_type": "markdown",
   "metadata": {},
   "source": [
    "## Упражнение 2.\n",
    "\n",
    "Написать тесты программы для расчета коэффициентов МНК из упражнения 6 в [семинаре 3](https://github.com/Klimkou/CS_SEPMP_2023/blob/main/Seminars/Seminar_3.ipynb)."
   ]
  },
  {
   "cell_type": "markdown",
   "metadata": {},
   "source": [
    "## Упражнение 3.\n",
    "\n",
    "Написать тесты программы, которая реализует быструю сортировку (Тони Хоара)."
   ]
  },
  {
   "cell_type": "markdown",
   "metadata": {},
   "source": [
    "## Упражнение 4.\n",
    "\n",
    "Написать тесты программы для дешифровки текста, закодированного шифром Цезаря, из [семинара X](https://github.com/Klimkou/CS_SEPMP_2023/blob/main/Seminars/Seminar_X.ipynb) "
   ]
  }
 ],
 "metadata": {
  "kernelspec": {
   "display_name": "py311",
   "language": "python",
   "name": "python3"
  },
  "language_info": {
   "codemirror_mode": {
    "name": "ipython",
    "version": 3
   },
   "file_extension": ".py",
   "mimetype": "text/x-python",
   "name": "python",
   "nbconvert_exporter": "python",
   "pygments_lexer": "ipython3",
   "version": "3.11.5"
  }
 },
 "nbformat": 4,
 "nbformat_minor": 2
}

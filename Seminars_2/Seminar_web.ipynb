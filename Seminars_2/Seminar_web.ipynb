{
 "cells": [
  {
   "cell_type": "code",
   "execution_count": 12,
   "id": "9a6ff8ad",
   "metadata": {},
   "outputs": [
    {
     "name": "stdout",
     "output_type": "stream",
     "text": [
      " * Serving Flask app '__main__'\n",
      " * Debug mode: off\n"
     ]
    },
    {
     "name": "stderr",
     "output_type": "stream",
     "text": [
      "WARNING: This is a development server. Do not use it in a production deployment. Use a production WSGI server instead.\n",
      " * Running on all addresses (0.0.0.0)\n",
      " * Running on http://127.0.0.1:5000\n",
      " * Running on http://172.20.10.8:5000\n",
      "Press CTRL+C to quit\n",
      "127.0.0.1 - - [12/Apr/2024 12:33:55] \"GET / HTTP/1.1\" 200 -\n",
      "127.0.0.1 - - [12/Apr/2024 12:33:59] \"GET /index HTTP/1.1\" 200 -\n"
     ]
    }
   ],
   "source": [
    "from flask import Flask\n",
    "from flask import request\n",
    "from flask import render_template\n",
    "\n",
    "app = Flask(__name__)\n",
    "\n",
    "@app.route(\"/\")\n",
    "def greeting():\n",
    "    return \"<h1 style='color:green'>Hello World!</h1>\"\n",
    "@app.route(\"/help\")\n",
    "def help():\n",
    "    return \"help me\"\n",
    "@app.route(\"/post/<id>\")\n",
    "def show_post(id):\n",
    "    return \"post id is \" + id\n",
    "\n",
    "@app.route(\"/bookmarks\")\n",
    "def display_bookmarks():\n",
    "    bk = request.args.get(\"page\", \"1\")\n",
    "    return \"the bookmark page is \" + bk\n",
    "\n",
    "@app.route(\"/index\")\n",
    "def index():\n",
    "    return render_template('index.html')\n",
    "\n",
    "if __name__ == \"__main__\":\n",
    "    app.run(host='0.0.0.0')"
   ]
  },
  {
   "cell_type": "code",
   "execution_count": 5,
   "id": "b3bfee88",
   "metadata": {},
   "outputs": [],
   "source": [
    "app = Flask(__name__)\n",
    "\n",
    "@app.route(\"/\")\n",
    "def greeting():\n",
    "    return \"<h1 style='color:green'>Hello World!</h1>\"\n",
    "@app.route(\"/help\")\n",
    "def help():\n",
    "    return \"help me\"\n",
    "@app.route(\"/post/<id>\")\n",
    "def show_post(id):\n",
    "    return \"post id is \" + id\n",
    "\n",
    "@app.route(\"/bookmarks\")\n",
    "def display_bookmarks():\n",
    "    bk = request.args.get(\"page\", \"1\")\n",
    "    return \"the bookmark page is \" + bk\n",
    "\n",
    "@app.route(\"/index\")\n",
    "def index():\n",
    "    return render_template('index.html')\n",
    "\n",
    "if __name__ == \"__main__\":\n",
    "    app.run(host='0.0.0.0')"
   ]
  },
  {
   "cell_type": "code",
   "execution_count": null,
   "id": "f1a964a6",
   "metadata": {},
   "outputs": [],
   "source": []
  }
 ],
 "metadata": {
  "kernelspec": {
   "display_name": "Python 3 (ipykernel)",
   "language": "python",
   "name": "python3"
  },
  "language_info": {
   "codemirror_mode": {
    "name": "ipython",
    "version": 3
   },
   "file_extension": ".py",
   "mimetype": "text/x-python",
   "name": "python",
   "nbconvert_exporter": "python",
   "pygments_lexer": "ipython3",
   "version": "3.9.12"
  }
 },
 "nbformat": 4,
 "nbformat_minor": 5
}
